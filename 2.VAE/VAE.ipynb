{
 "cells": [
  {
   "cell_type": "markdown",
   "metadata": {},
   "source": [
    "# Variational Autoencoder\n",
    "\n",
    "### Imports:"
   ]
  },
  {
   "cell_type": "code",
   "execution_count": 1,
   "metadata": {},
   "outputs": [
    {
     "name": "stderr",
     "output_type": "stream",
     "text": [
      "Using TensorFlow backend.\n"
     ]
    }
   ],
   "source": [
    "from IPython.display import Image, SVG\n",
    "%matplotlib inline\n",
    "\n",
    "import time\n",
    "import numpy as np\n",
    "from numpy.linalg import norm\n",
    "import matplotlib.pyplot as plt\n",
    "import pandas as pd\n",
    "import tensorflow as tf\n",
    "from sklearn.utils import shuffle\n",
    "from sklearn.preprocessing import StandardScaler, RobustScaler, MinMaxScaler, Normalizer\n",
    "from sklearn.model_selection import train_test_split\n",
    "from sklearn.metrics import roc_curve, auc\n",
    "from sklearn.model_selection import cross_val_predict\n",
    "\n",
    "import keras\n",
    "from keras.models import Model, Sequential\n",
    "from keras.layers import Input, Dense, Conv2D, MaxPooling2D, UpSampling2D, Flatten, Reshape, Lambda\n",
    "from keras import regularizers\n",
    "import keras.backend as K"
   ]
  },
  {
   "cell_type": "markdown",
   "metadata": {},
   "source": [
    "***\n",
    "## HYPERPARAMETERS & OPTIONS"
   ]
  },
  {
   "cell_type": "code",
   "execution_count": 2,
   "metadata": {},
   "outputs": [],
   "source": [
    "### DATA SELECTION ###\n",
    "bkg_filename = \"../background_Full_Test3.txt\"\n",
    "sig_filename = \"../signal_Full_Test3.txt\"\n",
    "drop_PHI_columns = True\n",
    "n_train = 25000\n",
    "scaler = MinMaxScaler()\n",
    "\n",
    "### OPTIONS ###\n",
    "savePlots = False\n",
    "plotsLocation = \"./\"\n",
    "\n",
    "### AUTOENCODER ###\n",
    "batch_size = 200\n",
    "n_epoch = 50"
   ]
  },
  {
   "cell_type": "markdown",
   "metadata": {},
   "source": [
    "**Note:** The value of ($\\mathbf{n\\_train}\\times 0.8$) must be divisible by **batch_size**. The **batch_size** must  be smaller than the size of the validation data set ($\\mathbf{n\\_train}\\times 0.2$). Oherwise errors will appear."
   ]
  },
  {
   "cell_type": "markdown",
   "metadata": {},
   "source": [
    "***\n",
    "### Load Data & Preprocessing"
   ]
  },
  {
   "cell_type": "code",
   "execution_count": 3,
   "metadata": {},
   "outputs": [
    {
     "name": "stdout",
     "output_type": "stream",
     "text": [
      "Number of BACKGROUND events: 54194\n",
      "46.13% = 25000 used for TRAINING\n",
      "46.13% = 25000 used for TESTING\n",
      "07.74% = 4194 unused\n",
      "Number of SIGNAL events: 52766\n",
      "47.38% = 25000 used for TESTING\n",
      "52.62% = 27766 unused\n",
      "\n",
      "\n",
      "Training sample size:  (25000, 11)\n",
      "Testing sample size:  (50000, 11)\n"
     ]
    }
   ],
   "source": [
    "bkg_all = pd.read_csv(bkg_filename, delimiter=' ', index_col=False)\n",
    "sig_all = pd.read_csv(sig_filename, delimiter=' ', index_col=False)\n",
    "\n",
    "def coordinate_change (df):\n",
    "    pt1 = np.sqrt(df['px1']**2 + df['py1']**2)\n",
    "    theta1 = np.arctan2(pt1,df['pz1'])\n",
    "    eta1 = -1 * np.log(np.tan(theta1/2))\n",
    "    phi1 = np.arctan2(df['py1'],df['px1'])\n",
    "    pt2 = np.sqrt(df['px2']**2 + df['py2']**2)\n",
    "    theta2 = np.arctan2(pt2,df['pz2'])\n",
    "    eta2 = -1 * np.log(np.tan(theta2/2))\n",
    "    phi2 = np.arctan2(df['py2'],df['px2'])\n",
    "    df['px1'] = pt1\n",
    "    df['py1'] = eta1\n",
    "    df['pz1'] = phi1\n",
    "    df['px2'] = pt2\n",
    "    df['py2'] = eta2\n",
    "    df['pz2'] = phi2\n",
    "    df.rename(columns={'px1':'$p_{t1}$', 'py1':'$\\eta_{1}$', 'pz1':'$\\phi_{1}$', 'px2':'$p_{t2}$',\n",
    "                       'py2':'$\\eta_{2}$', 'pz2':'$\\phi_{2}$', 'E1':'$E_1$', 'E2':'$E_2$', 'M1':'$M_1$',\n",
    "                       'M2':'$M_2$', 'M12':'$M_{1 2}$'}, inplace=True)\n",
    "    \n",
    "coordinate_change(sig_all)\n",
    "coordinate_change(bkg_all)\n",
    "\n",
    "if drop_PHI_columns:\n",
    "    sig_sel = sig_all.drop(columns = ['$\\phi_{1}$', '$\\phi_{2}$'])\n",
    "    bkg_sel = bkg_all.drop(columns = ['$\\phi_{1}$', '$\\phi_{2}$'])\n",
    "else:\n",
    "    sig_sel = sig_all\n",
    "    bkg_sel = bkg_all\n",
    "    \n",
    "data_header = list(sig_sel)\n",
    "\n",
    "sig_shuffled = shuffle(sig_sel)\n",
    "bkg_shuffled = shuffle(bkg_sel)\n",
    "\n",
    "n_bkg = len(bkg_sel.iloc[:,:0])\n",
    "n_sig = len(sig_sel.iloc[:,:0])\n",
    "f_s = n_train/n_sig\n",
    "f_b = n_train/n_bkg\n",
    "\n",
    "print (\"Number of BACKGROUND events:\", n_bkg)\n",
    "print (\"%0.2f%% = %d\" % (f_b*100, n_train), \"used for TRAINING\")\n",
    "print (\"%.2f%% = %d\" % (f_b*100, n_train), \"used for TESTING\")\n",
    "print (\"%05.2f%% = %d\" % ((1-2*f_b)*100, n_bkg - 2*n_train), \"unused\")\n",
    "print (\"Number of SIGNAL events:\", n_sig)\n",
    "print (\"%.2f%% = %d\" % (f_s*100, n_train), \"used for TESTING\")\n",
    "print (\"%.2f%% = %d\" % ((1-f_s)*100, n_sig - n_train), \"unused\")\n",
    "print (\"\\n\")\n",
    "\n",
    "sample_train = bkg_sel[:n_train]\n",
    "sample_test = pd.concat([bkg_sel.iloc[n_train:2*n_train], sig_sel.iloc[:n_train]])\n",
    "sample_test = sample_test.reset_index(drop=True)\n",
    "\n",
    "input_dim = sample_train.shape[1]\n",
    "\n",
    "sample_train = scaler.fit_transform(sample_train)\n",
    "sample_test = scaler.transform(sample_test)\n",
    "\n",
    "print('Training sample size: ',sample_train.shape)\n",
    "print('Testing sample size: ',sample_test.shape)\n",
    "\n",
    "sample_train_input, sample_train_valid = train_test_split(sample_train,test_size=0.2,random_state=13) "
   ]
  },
  {
   "cell_type": "markdown",
   "metadata": {},
   "source": [
    "***\n",
    "### VAE Setup\n",
    "\n",
    "There are **three** possible architectures for the **VAE**. Make sure only one of thefollowing cells is *Code* and the rest of them are *RAW NBConvert*"
   ]
  },
  {
   "cell_type": "markdown",
   "metadata": {},
   "source": [
    "##### 3 layered (11 -> 9 -> 6 -> 3 <- 6 <- 9 <- 11)"
   ]
  },
  {
   "cell_type": "raw",
   "metadata": {},
   "source": [
    "# encoder\n",
    "\n",
    "input_dim = sample_train.shape[1]\n",
    "encoding_dim_1 = 9\n",
    "encoding_dim_2 = 6\n",
    "encoding_dim_3 = 3\n",
    "\n",
    "\n",
    "# Q(z|X) -- encoder\n",
    "inputs = Input(shape=(input_dim,))\n",
    "h_q1 = Dense(encoding_dim_1, activation='relu')(inputs)\n",
    "h_q2 = Dense(encoding_dim_2, activation='relu')(h_q1)\n",
    "mu = Dense(encoding_dim_3, activation='linear')(h_q2)\n",
    "log_sigma = Dense(encoding_dim_3, activation='linear')(h_q2)\n",
    "\n",
    "\n",
    "def sample_z(args):\n",
    "    mu, log_sigma = args\n",
    "    eps = K.random_normal(shape=(batch_size, encoding_dim_3), mean=0., stddev=1.)\n",
    "    return mu + K.exp(log_sigma / 2) * eps\n",
    "\n",
    "\n",
    "# Sample z ~ Q(z|X)\n",
    "z = Lambda(sample_z)([mu, log_sigma])\n",
    "\n",
    "# P(X|z) -- decoder\n",
    "decoder_hidden1 = Dense(encoding_dim_2, activation='relu')\n",
    "decoder_hidden2 = Dense(encoding_dim_1, activation='relu')\n",
    "decoder_out = Dense(input_dim, activation='sigmoid')\n",
    "\n",
    "h_p1 = decoder_hidden1(z)\n",
    "h_p2 = decoder_hidden2(h_p1)\n",
    "outputs = decoder_out(h_p2)\n",
    "\n",
    "# Overall VAE model, for reconstruction and training\n",
    "vae = Model(inputs, outputs)\n",
    "\n",
    "# Encoder model, to encode input into latent variable\n",
    "# We use the mean as the output as it is the center point, the representative of the gaussian\n",
    "encoder = Model(inputs, mu)\n",
    "\n",
    "# Generator model, generate new data given latent variable z\n",
    "d_in = Input(shape=(encoding_dim_3,))\n",
    "d_h1 = decoder_hidden1(d_in)\n",
    "d_h2 = decoder_hidden2(d_h1)\n",
    "d_out = decoder_out(d_h2)\n",
    "decoder = Model(d_in, d_out)"
   ]
  },
  {
   "cell_type": "markdown",
   "metadata": {},
   "source": [
    "##### 2 layered (11 -> 5 -> 3 <- 5 <- 11)"
   ]
  },
  {
   "cell_type": "raw",
   "metadata": {},
   "source": [
    "# encoder\n",
    "\n",
    "input_dim = sample_train.shape[1]\n",
    "encoding_dim1 = 5\n",
    "encoding_dim2 = 3\n",
    "\n",
    "\n",
    "# Q(z|X) -- encoder\n",
    "inputs = Input(shape=(input_dim,))\n",
    "h_q = Dense(encoding_dim1, activation='relu')(inputs)\n",
    "mu = Dense(encoding_dim2, activation='linear')(h_q)\n",
    "log_sigma = Dense(encoding_dim2, activation='linear')(h_q)\n",
    "\n",
    "\n",
    "def sample_z(args):\n",
    "    mu, log_sigma = args\n",
    "    eps = K.random_normal(shape=(batch_size, encoding_dim2), mean=0., stddev=1.)\n",
    "    return mu + K.exp(log_sigma / 2) * eps\n",
    "\n",
    "\n",
    "# Sample z ~ Q(z|X)\n",
    "z = Lambda(sample_z)([mu, log_sigma])\n",
    "\n",
    "# P(X|z) -- decoder\n",
    "decoder_hidden = Dense(encoding_dim2, activation='relu')\n",
    "decoder_out = Dense(input_dim, activation='sigmoid')\n",
    "\n",
    "h_p = decoder_hidden(z)\n",
    "outputs = decoder_out(h_p)\n",
    "\n",
    "# Overall VAE model, for reconstruction and training\n",
    "vae = Model(inputs, outputs)\n",
    "\n",
    "# Encoder model, to encode input into latent variable\n",
    "# We use the mean as the output as it is the center point, the representative of the gaussian\n",
    "encoder = Model(inputs, mu)\n",
    "\n",
    "# Generator model, generate new data given latent variable z\n",
    "d_in = Input(shape=(encoding_dim2,))\n",
    "d_h = decoder_hidden(d_in)\n",
    "d_out = decoder_out(d_h)\n",
    "decoder = Model(d_in, d_out)"
   ]
  },
  {
   "cell_type": "markdown",
   "metadata": {},
   "source": [
    "##### one layered (11 -> 5 <- 11)"
   ]
  },
  {
   "cell_type": "code",
   "execution_count": 4,
   "metadata": {},
   "outputs": [
    {
     "name": "stdout",
     "output_type": "stream",
     "text": [
      "_________________________________________________________________\n",
      "Layer (type)                 Output Shape              Param #   \n",
      "=================================================================\n",
      "input_2 (InputLayer)         (None, 5)                 0         \n",
      "_________________________________________________________________\n",
      "dense_3 (Dense)              multiple                  66        \n",
      "=================================================================\n",
      "Total params: 66\n",
      "Trainable params: 66\n",
      "Non-trainable params: 0\n",
      "_________________________________________________________________\n"
     ]
    }
   ],
   "source": [
    "# encoder\n",
    "\n",
    "encoding_dim1 = 5\n",
    "\n",
    "# Q(z|X) -- encoder\n",
    "inputs = Input(shape=(input_dim,))\n",
    "mu = Dense(encoding_dim1, activation='linear')(inputs)\n",
    "log_sigma = Dense(encoding_dim1, activation='linear')(inputs)\n",
    "\n",
    "\n",
    "def sample_z(args):\n",
    "    mu, log_sigma = args\n",
    "    eps = K.random_normal(shape=(batch_size, encoding_dim1), mean=0., stddev=1.)\n",
    "    return mu + K.exp(log_sigma / 2) * eps\n",
    "\n",
    "\n",
    "# Sample z ~ Q(z|X)\n",
    "z = Lambda(sample_z)([mu, log_sigma])\n",
    "\n",
    "# P(X|z) -- decoder\n",
    "decoder_out = Dense(input_dim, activation='sigmoid')\n",
    "\n",
    "outputs = decoder_out(z)\n",
    "\n",
    "# Overall VAE model, for reconstruction and training\n",
    "vae = Model(inputs, outputs)\n",
    "\n",
    "# Encoder model, to encode input into latent variable\n",
    "# We use the mean as the output as it is the center point, the representative of the gaussian\n",
    "encoder = Model(inputs, mu)\n",
    "\n",
    "# Generator model, generate new data given latent variable z\n",
    "d_in = Input(shape=(encoding_dim1,))\n",
    "d_out = decoder_out(d_in)\n",
    "decoder = Model(d_in, d_out)\n",
    "\n",
    "decoder.summary()"
   ]
  },
  {
   "cell_type": "markdown",
   "metadata": {},
   "source": [
    "### Training\n",
    "\n",
    "Given the small batch size and shallow network, CPU training is faster because the computations are not very complex and the time improvement gained using GPU is less than the time needed to copy the data from RAM to VRAM each epoch"
   ]
  },
  {
   "cell_type": "code",
   "execution_count": 5,
   "metadata": {},
   "outputs": [
    {
     "name": "stdout",
     "output_type": "stream",
     "text": [
      "Train on 20000 samples, validate on 5000 samples\n",
      "Epoch 1/50\n",
      "20000/20000 [==============================] - 1s 46us/step - loss: 12.2349 - val_loss: 11.4782\n",
      "Epoch 2/50\n",
      "20000/20000 [==============================] - 0s 11us/step - loss: 10.6256 - val_loss: 9.7554\n",
      "Epoch 3/50\n",
      "20000/20000 [==============================] - 0s 11us/step - loss: 8.9851 - val_loss: 8.3002\n",
      "Epoch 4/50\n",
      "20000/20000 [==============================] - 0s 11us/step - loss: 7.9164 - val_loss: 7.5269\n",
      "Epoch 5/50\n",
      "20000/20000 [==============================] - 0s 11us/step - loss: 7.2535 - val_loss: 6.9764\n",
      "Epoch 6/50\n",
      "20000/20000 [==============================] - 0s 10us/step - loss: 6.8054 - val_loss: 6.5760\n",
      "Epoch 7/50\n",
      "20000/20000 [==============================] - 0s 9us/step - loss: 6.4573 - val_loss: 6.2663\n",
      "Epoch 8/50\n",
      "20000/20000 [==============================] - 0s 10us/step - loss: 6.1829 - val_loss: 6.0359\n",
      "Epoch 9/50\n",
      "20000/20000 [==============================] - 0s 10us/step - loss: 6.0059 - val_loss: 5.8759\n",
      "Epoch 10/50\n",
      "20000/20000 [==============================] - 0s 10us/step - loss: 5.8188 - val_loss: 5.7372\n",
      "Epoch 11/50\n",
      "20000/20000 [==============================] - 0s 10us/step - loss: 5.6819 - val_loss: 5.6372\n",
      "Epoch 12/50\n",
      "20000/20000 [==============================] - 0s 10us/step - loss: 5.5258 - val_loss: 5.4788\n",
      "Epoch 13/50\n",
      "20000/20000 [==============================] - 0s 8us/step - loss: 5.4366 - val_loss: 5.3992\n",
      "Epoch 14/50\n",
      "20000/20000 [==============================] - 0s 10us/step - loss: 5.3249 - val_loss: 5.2753\n",
      "Epoch 15/50\n",
      "20000/20000 [==============================] - 0s 10us/step - loss: 5.2400 - val_loss: 5.2242\n",
      "Epoch 16/50\n",
      "20000/20000 [==============================] - 0s 9us/step - loss: 5.1780 - val_loss: 5.1665\n",
      "Epoch 17/50\n",
      "20000/20000 [==============================] - 0s 9us/step - loss: 5.1056 - val_loss: 5.0455\n",
      "Epoch 18/50\n",
      "20000/20000 [==============================] - 0s 10us/step - loss: 5.0224 - val_loss: 5.0123\n",
      "Epoch 19/50\n",
      "20000/20000 [==============================] - 0s 8us/step - loss: 4.9846 - val_loss: 4.9796\n",
      "Epoch 20/50\n",
      "20000/20000 [==============================] - 0s 9us/step - loss: 4.9197 - val_loss: 4.8878\n",
      "Epoch 21/50\n",
      "20000/20000 [==============================] - 0s 9us/step - loss: 4.8813 - val_loss: 4.8225\n",
      "Epoch 22/50\n",
      "20000/20000 [==============================] - 0s 9us/step - loss: 4.8485 - val_loss: 4.7750\n",
      "Epoch 23/50\n",
      "20000/20000 [==============================] - 0s 9us/step - loss: 4.8035 - val_loss: 4.7652\n",
      "Epoch 24/50\n",
      "20000/20000 [==============================] - 0s 10us/step - loss: 4.7612 - val_loss: 4.7051\n",
      "Epoch 25/50\n",
      "20000/20000 [==============================] - 0s 9us/step - loss: 4.6964 - val_loss: 4.6441\n",
      "Epoch 26/50\n",
      "20000/20000 [==============================] - 0s 9us/step - loss: 4.6512 - val_loss: 4.6506\n",
      "Epoch 27/50\n",
      "20000/20000 [==============================] - 0s 9us/step - loss: 4.6235 - val_loss: 4.5932\n",
      "Epoch 28/50\n",
      "20000/20000 [==============================] - 0s 9us/step - loss: 4.5747 - val_loss: 4.5493\n",
      "Epoch 29/50\n",
      "20000/20000 [==============================] - 0s 9us/step - loss: 4.5427 - val_loss: 4.5006\n",
      "Epoch 30/50\n",
      "20000/20000 [==============================] - 0s 10us/step - loss: 4.5125 - val_loss: 4.4954\n",
      "Epoch 31/50\n",
      "20000/20000 [==============================] - 0s 9us/step - loss: 4.4656 - val_loss: 4.4814\n",
      "Epoch 32/50\n",
      "20000/20000 [==============================] - 0s 9us/step - loss: 4.4394 - val_loss: 4.3959\n",
      "Epoch 33/50\n",
      "20000/20000 [==============================] - 0s 8us/step - loss: 4.4085 - val_loss: 4.3747\n",
      "Epoch 34/50\n",
      "20000/20000 [==============================] - 0s 9us/step - loss: 4.3812 - val_loss: 4.3790\n",
      "Epoch 35/50\n",
      "20000/20000 [==============================] - 0s 9us/step - loss: 4.3550 - val_loss: 4.3212\n",
      "Epoch 36/50\n",
      "20000/20000 [==============================] - 0s 9us/step - loss: 4.3257 - val_loss: 4.2663\n",
      "Epoch 37/50\n",
      "20000/20000 [==============================] - 0s 9us/step - loss: 4.3038 - val_loss: 4.2599\n",
      "Epoch 38/50\n",
      "20000/20000 [==============================] - 0s 10us/step - loss: 4.2487 - val_loss: 4.2423\n",
      "Epoch 39/50\n",
      "20000/20000 [==============================] - 0s 9us/step - loss: 4.2292 - val_loss: 4.2044\n",
      "Epoch 40/50\n",
      "20000/20000 [==============================] - 0s 9us/step - loss: 4.2205 - val_loss: 4.1789\n",
      "Epoch 41/50\n",
      "20000/20000 [==============================] - 0s 9us/step - loss: 4.1724 - val_loss: 4.1543\n",
      "Epoch 42/50\n",
      "20000/20000 [==============================] - 0s 9us/step - loss: 4.1312 - val_loss: 4.1291\n",
      "Epoch 43/50\n",
      "20000/20000 [==============================] - 0s 9us/step - loss: 4.0997 - val_loss: 4.1066\n",
      "Epoch 44/50\n",
      "20000/20000 [==============================] - 0s 9us/step - loss: 4.0760 - val_loss: 4.1094\n",
      "Epoch 45/50\n",
      "20000/20000 [==============================] - 0s 9us/step - loss: 4.0528 - val_loss: 4.0209\n",
      "Epoch 46/50\n",
      "20000/20000 [==============================] - 0s 9us/step - loss: 4.0052 - val_loss: 4.0020\n",
      "Epoch 47/50\n",
      "20000/20000 [==============================] - 0s 9us/step - loss: 4.0021 - val_loss: 3.9967\n",
      "Epoch 48/50\n",
      "20000/20000 [==============================] - 0s 9us/step - loss: 3.9624 - val_loss: 3.9593\n",
      "Epoch 49/50\n",
      "20000/20000 [==============================] - 0s 8us/step - loss: 3.9283 - val_loss: 3.9303\n",
      "Epoch 50/50\n",
      "20000/20000 [==============================] - 0s 8us/step - loss: 3.8852 - val_loss: 3.8562\n"
     ]
    }
   ],
   "source": [
    "def vae_loss(y_true, y_pred):\n",
    "    \"\"\" Calculate loss = reconstruction loss + KL loss for each data in minibatch \"\"\"\n",
    "    # E[log P(X|z)]\n",
    "    recon = K.sum(K.binary_crossentropy(y_pred, y_true), axis=1)\n",
    "    # D_KL(Q(z|X) || P(z|X)); calculate in closed form as both dist. are Gaussian\n",
    "    kl = 0.5 * K.sum(K.exp(log_sigma) + K.square(mu) - 1. - log_sigma, axis=1)\n",
    "\n",
    "    return recon + kl\n",
    "\n",
    "# Recording loss history\n",
    "class LossHistory(keras.callbacks.Callback):\n",
    "    def on_train_begin(self, logs={}):\n",
    "        self.losses = []\n",
    "\n",
    "    def on_batch_end(self, batch, logs={}):\n",
    "        self.losses.append(logs.get('loss'))\n",
    "\n",
    "history = LossHistory()\n",
    "\n",
    "vae.compile(optimizer='adam', loss=vae_loss)\n",
    "\n",
    "start = time.time()\n",
    "\n",
    "vae_train = vae.fit(sample_train_input, sample_train_input, batch_size=batch_size, epochs=n_epoch,\n",
    "            shuffle=True, callbacks=[history],\n",
    "            validation_data=(sample_train_valid, sample_train_valid))\n",
    "    \n",
    "end = time.time()\n",
    "train_time = (end-start)"
   ]
  },
  {
   "cell_type": "markdown",
   "metadata": {},
   "source": [
    "### Training validation"
   ]
  },
  {
   "cell_type": "code",
   "execution_count": 6,
   "metadata": {},
   "outputs": [
    {
     "data": {
      "image/png": "[encoded data removed]",
      "text/plain": [
       "<Figure size 432x288 with 1 Axes>"
      ]
     },
     "metadata": {
      "needs_background": "light"
     },
     "output_type": "display_data"
    }
   ],
   "source": [
    "loss = vae_train.history['loss']\n",
    "val_loss = vae_train.history['val_loss']\n",
    "epochs = range(n_epoch)\n",
    "plt.figure()\n",
    "plt.plot(epochs, loss, 'bo', label='Training loss')\n",
    "plt.plot(epochs, val_loss, 'b', label='Validation loss')\n",
    "plt.title('Training and validation loss')\n",
    "plt.legend()\n",
    "plt.show()\n",
    "\n",
    "if savePlots:\n",
    "    plt.savefig(plotsLocation + \"loss.png\")"
   ]
  },
  {
   "cell_type": "markdown",
   "metadata": {},
   "source": [
    "### Figure of merit"
   ]
  },
  {
   "cell_type": "code",
   "execution_count": 7,
   "metadata": {},
   "outputs": [
    {
     "name": "stdout",
     "output_type": "stream",
     "text": [
      "50000 25000\n"
     ]
    },
    {
     "data": {
      "image/png": "[encoded data removed]",
      "text/plain": [
       "<Figure size 504x504 with 1 Axes>"
      ]
     },
     "metadata": {
      "needs_background": "light"
     },
     "output_type": "display_data"
    }
   ],
   "source": [
    "encoded_imgs = encoder.predict(sample_test)\n",
    "decoded_imgs = decoder.predict(encoded_imgs)\n",
    "\n",
    "encoded_imgs_train = encoder.predict(sample_train)\n",
    "decoded_imgs_train = decoder.predict(encoded_imgs_train)\n",
    "\n",
    "# Calculate L2 norm of train and test samples\n",
    "# norm = |x_in - x_out|^2\n",
    "\n",
    "from numpy.linalg import norm\n",
    "\n",
    "norm_test=[]\n",
    "for i in range(sample_test.shape[0]):\n",
    "    norm_test += [norm(sample_test[i,:]-decoded_imgs[i,:])]\n",
    "\n",
    "norm_train=[]\n",
    "for i in range(sample_train.shape[0]):\n",
    "    norm_train += [norm(sample_train[i,:]-decoded_imgs_train[i,:])]\n",
    "\n",
    "    \n",
    "print(len(norm_test), len(norm_train))\n",
    "\n",
    "#bins = np.arange(0, 1, 0.01)\n",
    "plt.figure(figsize=(7, 7))\n",
    "n, bins, patches = plt.hist(norm_test, bins='auto', alpha=0.5, label='Test', density=True)\n",
    "plt.hist(norm_train, bins, alpha=0.5, label='Train', density=True)\n",
    "plt.xlabel('distance')\n",
    "plt.legend(loc='upper right')\n",
    "\n",
    "if savePlots:\n",
    "    plt.savefig(plotsLocation + \"distances.png\")"
   ]
  },
  {
   "cell_type": "markdown",
   "metadata": {},
   "source": [
    "### ROC Curve"
   ]
  },
  {
   "cell_type": "code",
   "execution_count": 8,
   "metadata": {},
   "outputs": [
    {
     "data": {
      "image/png": "[encoded data removed]",
      "text/plain": [
       "<Figure size 504x504 with 1 Axes>"
      ]
     },
     "metadata": {
      "needs_background": "light"
     },
     "output_type": "display_data"
    }
   ],
   "source": [
    "no_sig = (int)\n",
    "no_sig = int(sample_test.shape[0]/2)\n",
    "\n",
    "train_min = int(train_time) // 60\n",
    "train_sec = train_time - 60 * train_min\n",
    "time_stamp = \"Total GPU train time: %d'  %.1f''\" % (train_min, train_sec)\n",
    "\n",
    "target = np.concatenate((np.zeros(sample_train.shape[0]+no_sig),np.ones(no_sig)))\n",
    "scores = np.concatenate((norm_train,norm_test))  \n",
    "\n",
    "plt.figure(figsize=(7, 7))\n",
    "                   \n",
    "fp, vp, thresholds = roc_curve(target,scores,pos_label=0)\n",
    "roc_auc = auc(fp, vp)\n",
    "\n",
    "plt.plot(fp,vp,color='red',label='ROC curve %s (AUC = %0.4f)'%('AE',roc_auc))\n",
    "\n",
    "plt.xlabel('FP')\n",
    "plt.ylabel('TP')\n",
    "plt.plot([0, 1],[0, 1],\n",
    "         linestyle='--',color=(0.6, 0.6, 0.6),\n",
    "         label='Random guess')\n",
    "#plt.plot([0, 0, 1],[0, 1, 1],color='yellow',label='Idéal')\n",
    "plt.grid()\n",
    "plt.legend(loc=\"best\", title =time_stamp)\n",
    "plt.tight_layout()\n",
    "\n",
    "if savePlots:\n",
    "    plt.savefig(plotLocation + \"ROC.png\")"
   ]
  },
  {
   "cell_type": "code",
   "execution_count": null,
   "metadata": {},
   "outputs": [],
   "source": []
  }
 ],
 "metadata": {
  "kernelspec": {
   "display_name": "Python 3",
   "language": "python",
   "name": "python3"
  },
  "language_info": {
   "codemirror_mode": {
    "name": "ipython",
    "version": 3
   },
   "file_extension": ".py",
   "mimetype": "text/x-python",
   "name": "python",
   "nbconvert_exporter": "python",
   "pygments_lexer": "ipython3",
   "version": "3.6.8"
  }
 },
 "nbformat": 4,
 "nbformat_minor": 2
}
